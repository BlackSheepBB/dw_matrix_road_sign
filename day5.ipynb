{
  "nbformat": 4,
  "nbformat_minor": 0,
  "metadata": {
    "colab": {
      "name": "day5.ipynb",
      "provenance": [],
      "collapsed_sections": [],
      "mount_file_id": "1nUZJdElqUsYGmcFVyUH1U3y--T1RUpOz",
      "authorship_tag": "ABX9TyNLBfbs1fVycJcGNoUhAns5"
    },
    "kernelspec": {
      "name": "python3",
      "display_name": "Python 3"
    },
    "accelerator": "GPU"
  },
  "cells": [
    {
      "cell_type": "code",
      "metadata": {
        "id": "RVLS2JaJc1y6",
        "colab_type": "code",
        "colab": {
          "base_uri": "https://localhost:8080/",
          "height": 176
        },
        "outputId": "050a86b5-a81b-47e2-c8c8-786b68b62984"
      },
      "source": [
        "!pip install hyperopt"
      ],
      "execution_count": 1,
      "outputs": [
        {
          "output_type": "stream",
          "text": [
            "Requirement already satisfied: hyperopt in /usr/local/lib/python3.6/dist-packages (0.1.2)\n",
            "Requirement already satisfied: six in /usr/local/lib/python3.6/dist-packages (from hyperopt) (1.12.0)\n",
            "Requirement already satisfied: scipy in /usr/local/lib/python3.6/dist-packages (from hyperopt) (1.4.1)\n",
            "Requirement already satisfied: networkx in /usr/local/lib/python3.6/dist-packages (from hyperopt) (2.4)\n",
            "Requirement already satisfied: future in /usr/local/lib/python3.6/dist-packages (from hyperopt) (0.16.0)\n",
            "Requirement already satisfied: tqdm in /usr/local/lib/python3.6/dist-packages (from hyperopt) (4.38.0)\n",
            "Requirement already satisfied: pymongo in /usr/local/lib/python3.6/dist-packages (from hyperopt) (3.10.1)\n",
            "Requirement already satisfied: numpy in /usr/local/lib/python3.6/dist-packages (from hyperopt) (1.18.2)\n",
            "Requirement already satisfied: decorator>=4.3.0 in /usr/local/lib/python3.6/dist-packages (from networkx->hyperopt) (4.4.2)\n"
          ],
          "name": "stdout"
        }
      ]
    },
    {
      "cell_type": "code",
      "metadata": {
        "id": "ROZ5CniiePqg",
        "colab_type": "code",
        "colab": {}
      },
      "source": [
        "import pandas as pd\n",
        "import numpy as np\n",
        "\n",
        "import os\n",
        "import datetime\n",
        "\n",
        "import tensorflow as tf\n",
        "from tensorflow.keras.models import Sequential\n",
        "from tensorflow.keras.layers import Conv2D, MaxPool2D, Dense, Flatten, Dropout\n",
        "from tensorflow.keras.utils import to_categorical\n",
        "\n",
        "%load_ext tensorboard \n",
        "\n",
        "import matplotlib.pyplot as plt\n",
        "from skimage import color, exposure\n",
        "\n",
        "from sklearn.metrics import accuracy_score\n",
        "\n",
        "from hyperopt import hp, STATUS_OK, tpe, Trials, fmin"
      ],
      "execution_count": 0,
      "outputs": []
    },
    {
      "cell_type": "code",
      "metadata": {
        "id": "2exBPXscegZ-",
        "colab_type": "code",
        "colab": {
          "base_uri": "https://localhost:8080/",
          "height": 34
        },
        "outputId": "091cb666-fcbe-4619-ac56-c8de6716f7ef"
      },
      "source": [
        "cd '/content/drive/My Drive/Colab Notebooks/dw_matrix/matrix_three/dw_matrix_road_sign'"
      ],
      "execution_count": 2,
      "outputs": [
        {
          "output_type": "stream",
          "text": [
            "/content/drive/My Drive/Colab Notebooks/dw_matrix/matrix_three/dw_matrix_road_sign\n"
          ],
          "name": "stdout"
        }
      ]
    },
    {
      "cell_type": "code",
      "metadata": {
        "id": "HLNCm61fgEMs",
        "colab_type": "code",
        "colab": {}
      },
      "source": [
        "train = pd.read_pickle('data/train.p')\n",
        "test = pd.read_pickle('data/test.p')\n",
        "\n",
        "X_train, y_train = train['features'], train['labels']\n",
        "X_test, y_test = test['features'], test['labels']\n"
      ],
      "execution_count": 0,
      "outputs": []
    },
    {
      "cell_type": "code",
      "metadata": {
        "id": "18_iDTYpgGom",
        "colab_type": "code",
        "colab": {}
      },
      "source": [
        "if y_train.ndim == 1: y_train = to_categorical(y_train)\n",
        "if y_test.ndim == 1: y_test = to_categorical(y_test)\n",
        "\n",
        "input_shape = X_train.shape[1:]\n",
        "num_classes = y_train.shape[1]"
      ],
      "execution_count": 0,
      "outputs": []
    },
    {
      "cell_type": "code",
      "metadata": {
        "id": "jRtEbOCigNr2",
        "colab_type": "code",
        "colab": {}
      },
      "source": [
        "def train_model(model, X_train, y_train, params_fit={}):\n",
        "  model.compile(loss='categorical_crossentropy', optimizer='Adam', metrics=['accuracy'])\n",
        "\n",
        "  logdir = os.path.join('logs', datetime.datetime.now().strftime('%Y%m%d-%H%M%S'))\n",
        "  tensorboard_callback = tf.keras.callbacks.TensorBoard(logdir,histogram_freq=1)\n",
        "\n",
        "  model.fit(\n",
        "      X_train, \n",
        "      y_train,\n",
        "      batch_size=params_fit.get('batch_size', 128),\n",
        "      epochs = params_fit.get('epochs', 5),\n",
        "      verbose = params_fit.get('verbose', 1),\n",
        "      validation_data = params_fit.get('validation_data', (X_train, y_train)),\n",
        "      callbacks = [tensorboard_callback]\n",
        "      )\n",
        "  return model\n"
      ],
      "execution_count": 0,
      "outputs": []
    },
    {
      "cell_type": "code",
      "metadata": {
        "id": "4W8PMsoogg-N",
        "colab_type": "code",
        "colab": {}
      },
      "source": [
        "def predict(model_trained, X_test, y_test, scoring = accuracy_score):\n",
        "\n",
        "  y_test_norm = np.argmax(y_test, axis=1)\n",
        "\n",
        "  y_pred_prob = model_trained.predict(X_test)\n",
        "  y_pred = np.argmax(y_pred_prob, axis = 1)\n",
        "\n",
        "  return scoring(y_test_norm, y_pred)\n",
        "\n",
        "\n"
      ],
      "execution_count": 0,
      "outputs": []
    },
    {
      "cell_type": "code",
      "metadata": {
        "id": "j_tzoYozg0Ia",
        "colab_type": "code",
        "colab": {}
      },
      "source": [
        "def get_cnn_v5(input_shape, num_classes):\n",
        "  return Sequential([\n",
        "    Conv2D(filters=32, kernel_size=(3, 3), activation='relu', input_shape=input_shape),\n",
        "    Conv2D(filters=32, kernel_size=(3, 3), activation='relu', padding='same'),\n",
        "    MaxPool2D(),\n",
        "    Dropout(0.3),\n",
        "\n",
        "    Conv2D(filters=64, kernel_size=(3, 3), activation='relu', padding='same'),\n",
        "    Conv2D(filters=64, kernel_size=(3, 3), activation='relu'),\n",
        "    MaxPool2D(),\n",
        "    Dropout(0.3),\n",
        "\n",
        "    Conv2D(filters=64, kernel_size=(3, 3), activation='relu', padding='same'),\n",
        "    Conv2D(filters=64, kernel_size=(3, 3), activation='relu'),\n",
        "    MaxPool2D(),\n",
        "    Dropout(0.3),\n",
        "    \n",
        "    Flatten(),\n",
        "\n",
        "    Dense(1024, activation='relu'),\n",
        "    Dropout(0.3),\n",
        "\n",
        "    Dense(1024, activation='relu'),\n",
        "    Dropout(0.3),\n",
        "\n",
        "    Dense(num_classes, activation='softmax'),\n",
        "  ])\n"
      ],
      "execution_count": 0,
      "outputs": []
    },
    {
      "cell_type": "code",
      "metadata": {
        "id": "Xx2NsbtEg1aj",
        "colab_type": "code",
        "colab": {
          "base_uri": "https://localhost:8080/",
          "height": 212
        },
        "outputId": "291a0c8f-ef41-4c8a-9584-e7213f5afdfe"
      },
      "source": [
        "model = get_cnn_v5(input_shape, num_classes)\n",
        "model_trained = train_model(model, X_train, y_train)\n",
        "\n",
        "predict(model_trained, X_test, y_test)"
      ],
      "execution_count": 8,
      "outputs": [
        {
          "output_type": "stream",
          "text": [
            "Epoch 1/5\n",
            "272/272 [==============================] - 7s 24ms/step - loss: 2.6675 - accuracy: 0.2629 - val_loss: 0.9948 - val_accuracy: 0.6781\n",
            "Epoch 2/5\n",
            "272/272 [==============================] - 6s 22ms/step - loss: 0.8095 - accuracy: 0.7456 - val_loss: 0.2034 - val_accuracy: 0.9441\n",
            "Epoch 3/5\n",
            "272/272 [==============================] - 6s 22ms/step - loss: 0.3756 - accuracy: 0.8842 - val_loss: 0.0806 - val_accuracy: 0.9791\n",
            "Epoch 4/5\n",
            "272/272 [==============================] - 6s 22ms/step - loss: 0.2551 - accuracy: 0.9236 - val_loss: 0.0513 - val_accuracy: 0.9856\n",
            "Epoch 5/5\n",
            "272/272 [==============================] - 6s 22ms/step - loss: 0.1986 - accuracy: 0.9424 - val_loss: 0.0321 - val_accuracy: 0.9918\n"
          ],
          "name": "stdout"
        },
        {
          "output_type": "execute_result",
          "data": {
            "text/plain": [
              "0.9682539682539683"
            ]
          },
          "metadata": {
            "tags": []
          },
          "execution_count": 8
        }
      ]
    },
    {
      "cell_type": "code",
      "metadata": {
        "id": "lD2QyHc7q9jV",
        "colab_type": "code",
        "colab": {}
      },
      "source": [
        "def get_model(params):\n",
        "  return Sequential([\n",
        "    Conv2D(filters=32, kernel_size=(3, 3), activation='relu', input_shape=input_shape),\n",
        "    Conv2D(filters=32, kernel_size=(3, 3), activation='relu', padding='same'),\n",
        "    MaxPool2D(),\n",
        "    Dropout(params['dropout_cnn_block_one']),\n",
        "\n",
        "    Conv2D(filters=64, kernel_size=(3, 3), activation='relu', padding='same'),\n",
        "    Conv2D(filters=64, kernel_size=(3, 3), activation='relu'),\n",
        "    MaxPool2D(),\n",
        "    Dropout(params['dropout_cnn_block_two']),\n",
        "\n",
        "    Conv2D(filters=128, kernel_size=(3, 3), activation='relu', padding='same'),\n",
        "    Conv2D(filters=128, kernel_size=(3, 3), activation='relu'),\n",
        "    MaxPool2D(),\n",
        "    Dropout(params['dropout_cnn_block_three']),\n",
        "    \n",
        "    Flatten(),\n",
        "\n",
        "    Dense(1024, activation='relu'),\n",
        "    Dropout(params['dropout_dense_block_one']),\n",
        "\n",
        "    Dense(1024, activation='relu'),\n",
        "    Dropout(params['dropout_dense_block_two']),\n",
        "\n",
        "    Dense(num_classes, activation='softmax'),\n",
        "  ])\n"
      ],
      "execution_count": 0,
      "outputs": []
    },
    {
      "cell_type": "code",
      "metadata": {
        "id": "up4uQ4X8hrK9",
        "colab_type": "code",
        "colab": {}
      },
      "source": [
        "def func_obj(params):\n",
        "  model = get_model(params)\n",
        "  model.compile(loss='categorical_crossentropy', optimizer='Adam', metrics=['accuracy'])\n",
        "\n",
        "  model.fit(\n",
        "      X_train,\n",
        "      y_train,\n",
        "      batch_size=int(params.get('batch_size', 128)),\n",
        "      epochs=5,\n",
        "      verbose=0\n",
        "  )\n",
        "\n",
        "  score = model.evaluate(X_test, y_test, verbose=0)\n",
        "  accuracy = score[1]\n",
        "  print(params, 'accuracy={}'.format(accuracy) )\n",
        "\n",
        "  return {'loss': -accuracy, 'status': STATUS_OK, 'model': model}"
      ],
      "execution_count": 0,
      "outputs": []
    },
    {
      "cell_type": "code",
      "metadata": {
        "id": "yq2egW_DmxJU",
        "colab_type": "code",
        "colab": {
          "base_uri": "https://localhost:8080/",
          "height": 1000
        },
        "outputId": "8708672a-8a68-4223-e89e-7ed1fca33557"
      },
      "source": [
        "space = {\n",
        "    'batch_size': hp.quniform('batch_size', 100, 200, 10),\n",
        "    'dropout_cnn_block_one': hp.uniform('dropout_cnn_block_one', 0.3, 0.5),\n",
        "    'dropout_cnn_block_two': hp.uniform('dropout_cnn_block_two', 0.3, 0.5),\n",
        "    'dropout_cnn_block_three': hp.uniform('dropout_cnn_block_three', 0.3, 0.5),\n",
        "\n",
        "    'dropout_dense_block_one': hp.uniform('dropout_dense_block_one', 0.3, 0.7),\n",
        "    'dropout_dense_block_two': hp.uniform('dropout_dense_block_two', 0.3, 0.7),\n",
        "}\n",
        "\n",
        "best = fmin(\n",
        "    func_obj,\n",
        "    space,\n",
        "    tpe.suggest,\n",
        "    30,\n",
        "    Trials()\n",
        ")"
      ],
      "execution_count": 11,
      "outputs": [
        {
          "output_type": "stream",
          "text": [
            "{'batch_size': 130.0, 'dropout_cnn_block_one': 0.30753466579947203, 'dropout_cnn_block_three': 0.4977074194731011, 'dropout_cnn_block_two': 0.3792840763359234, 'dropout_dense_block_one': 0.5245978310880434, 'dropout_dense_block_two': 0.3152700432205409}\n",
            "accuracy=0.9625850319862366\n",
            "{'batch_size': 180.0, 'dropout_cnn_block_one': 0.49861118550108136, 'dropout_cnn_block_three': 0.37381148082804405, 'dropout_cnn_block_two': 0.46998623602421136, 'dropout_dense_block_one': 0.3359671544306855, 'dropout_dense_block_two': 0.6033929079594065}\n",
            "accuracy=0.8562358021736145\n",
            "{'batch_size': 150.0, 'dropout_cnn_block_one': 0.42657194916521846, 'dropout_cnn_block_three': 0.47081164873293224, 'dropout_cnn_block_two': 0.35731469416844586, 'dropout_dense_block_one': 0.6779063345812963, 'dropout_dense_block_two': 0.3633695133042982}\n",
            "accuracy=0.8460317254066467\n",
            "{'batch_size': 130.0, 'dropout_cnn_block_one': 0.3148690530056178, 'dropout_cnn_block_three': 0.44299799647406557, 'dropout_cnn_block_two': 0.4174376121795078, 'dropout_dense_block_one': 0.6699464494677795, 'dropout_dense_block_two': 0.5681375881853269}\n",
            "accuracy=0.8784580230712891\n",
            "{'batch_size': 140.0, 'dropout_cnn_block_one': 0.4186651153331595, 'dropout_cnn_block_three': 0.467778471664302, 'dropout_cnn_block_two': 0.3522362224140617, 'dropout_dense_block_one': 0.37330679023327545, 'dropout_dense_block_two': 0.6941642945586769}\n",
            "accuracy=0.9478458166122437\n",
            "{'batch_size': 150.0, 'dropout_cnn_block_one': 0.4658180640166193, 'dropout_cnn_block_three': 0.3142131466857255, 'dropout_cnn_block_two': 0.3110520858432457, 'dropout_dense_block_one': 0.5328213393255002, 'dropout_dense_block_two': 0.43499589285966445}\n",
            "accuracy=0.9424036145210266\n",
            "{'batch_size': 140.0, 'dropout_cnn_block_one': 0.37449781032185336, 'dropout_cnn_block_three': 0.4244246540752193, 'dropout_cnn_block_two': 0.355324015674658, 'dropout_dense_block_one': 0.5659862016825385, 'dropout_dense_block_two': 0.31640698382303684}\n",
            "accuracy=0.9399092793464661\n",
            "{'batch_size': 180.0, 'dropout_cnn_block_one': 0.48147173918533415, 'dropout_cnn_block_three': 0.3597732146993079, 'dropout_cnn_block_two': 0.48753753938188404, 'dropout_dense_block_one': 0.56322705793259, 'dropout_dense_block_two': 0.6454995830986742}\n",
            "accuracy=0.4156462550163269\n",
            "{'batch_size': 170.0, 'dropout_cnn_block_one': 0.47501486206354276, 'dropout_cnn_block_three': 0.48780728372261895, 'dropout_cnn_block_two': 0.43225442561386773, 'dropout_dense_block_one': 0.5815551090395377, 'dropout_dense_block_two': 0.47414706613815993}\n",
            "accuracy=0.6657596230506897\n",
            "{'batch_size': 180.0, 'dropout_cnn_block_one': 0.38840221472177594, 'dropout_cnn_block_three': 0.36333598418938123, 'dropout_cnn_block_two': 0.4986283802001733, 'dropout_dense_block_one': 0.40352292434282205, 'dropout_dense_block_two': 0.4085372023547094}\n",
            "accuracy=0.9240362644195557\n",
            "{'batch_size': 130.0, 'dropout_cnn_block_one': 0.34260956535819675, 'dropout_cnn_block_three': 0.33477282768762107, 'dropout_cnn_block_two': 0.45460000732928313, 'dropout_dense_block_one': 0.37549107940975257, 'dropout_dense_block_two': 0.406553529184485}\n",
            "accuracy=0.9712018370628357\n",
            "{'batch_size': 160.0, 'dropout_cnn_block_one': 0.47465388313875906, 'dropout_cnn_block_three': 0.3340358527644543, 'dropout_cnn_block_two': 0.31759666162549643, 'dropout_dense_block_one': 0.6279891641986921, 'dropout_dense_block_two': 0.37680741307857146}\n",
            "accuracy=0.8784580230712891\n",
            "{'batch_size': 120.0, 'dropout_cnn_block_one': 0.49990258549790023, 'dropout_cnn_block_three': 0.3063606633208707, 'dropout_cnn_block_two': 0.3106609674609526, 'dropout_dense_block_one': 0.5224992263989242, 'dropout_dense_block_two': 0.6588415162843632}\n",
            "accuracy=0.9435374140739441\n",
            "{'batch_size': 110.0, 'dropout_cnn_block_one': 0.4309566625129941, 'dropout_cnn_block_three': 0.4354319263732958, 'dropout_cnn_block_two': 0.3609422215975058, 'dropout_dense_block_one': 0.5085562728201712, 'dropout_dense_block_two': 0.5295901489265177}\n",
            "accuracy=0.9306122660636902\n",
            "{'batch_size': 150.0, 'dropout_cnn_block_one': 0.3033303373143455, 'dropout_cnn_block_three': 0.30298040437613627, 'dropout_cnn_block_two': 0.43531597325582183, 'dropout_dense_block_one': 0.5837780449232295, 'dropout_dense_block_two': 0.6946876934562937}\n",
            "accuracy=0.9417233467102051\n",
            "{'batch_size': 170.0, 'dropout_cnn_block_one': 0.3731069514947909, 'dropout_cnn_block_three': 0.405221309713893, 'dropout_cnn_block_two': 0.31955156177461147, 'dropout_dense_block_one': 0.30483458534722874, 'dropout_dense_block_two': 0.51888126058374}\n",
            "accuracy=0.9383220076560974\n",
            "{'batch_size': 140.0, 'dropout_cnn_block_one': 0.4931139116012657, 'dropout_cnn_block_three': 0.3020921962959538, 'dropout_cnn_block_two': 0.45250487026449904, 'dropout_dense_block_one': 0.5160290186789617, 'dropout_dense_block_two': 0.3170471546099145}\n",
            "accuracy=0.837188184261322\n",
            "{'batch_size': 160.0, 'dropout_cnn_block_one': 0.36849565084381564, 'dropout_cnn_block_three': 0.49495395366799877, 'dropout_cnn_block_two': 0.3320660360556872, 'dropout_dense_block_one': 0.4175480691506524, 'dropout_dense_block_two': 0.46415387708237016}\n",
            "accuracy=0.9392290115356445\n",
            "{'batch_size': 130.0, 'dropout_cnn_block_one': 0.32577709897929025, 'dropout_cnn_block_three': 0.39066295273382284, 'dropout_cnn_block_two': 0.31615093219724216, 'dropout_dense_block_one': 0.5295520257851315, 'dropout_dense_block_two': 0.4533398560614452}\n",
            "accuracy=0.9755101799964905\n",
            "{'batch_size': 200.0, 'dropout_cnn_block_one': 0.3141909561122936, 'dropout_cnn_block_three': 0.3758572167529926, 'dropout_cnn_block_two': 0.35755237900667164, 'dropout_dense_block_one': 0.5731735896838958, 'dropout_dense_block_two': 0.34914488986000897}\n",
            "accuracy=0.9544217586517334\n",
            "{'batch_size': 100.0, 'dropout_cnn_block_one': 0.34256434753285864, 'dropout_cnn_block_three': 0.3369672813445065, 'dropout_cnn_block_two': 0.39865792371612085, 'dropout_dense_block_one': 0.4623048827202973, 'dropout_dense_block_two': 0.41267850355216495}\n",
            "accuracy=0.9575963616371155\n",
            "{'batch_size': 110.0, 'dropout_cnn_block_one': 0.3395100553515201, 'dropout_cnn_block_three': 0.391507518570746, 'dropout_cnn_block_two': 0.4692243486295151, 'dropout_dense_block_one': 0.456455056759819, 'dropout_dense_block_two': 0.47746670007168335}\n",
            "accuracy=0.9448979496955872\n",
            "{'batch_size': 120.0, 'dropout_cnn_block_one': 0.3390324225394804, 'dropout_cnn_block_three': 0.3397240470309554, 'dropout_cnn_block_two': 0.38969663662058573, 'dropout_dense_block_one': 0.4609687246817776, 'dropout_dense_block_two': 0.43497135985190677}\n",
            "accuracy=0.9628117680549622\n",
            "{'batch_size': 130.0, 'dropout_cnn_block_one': 0.3561637240137914, 'dropout_cnn_block_three': 0.4148164490360844, 'dropout_cnn_block_two': 0.4168026372876709, 'dropout_dense_block_one': 0.3617137799698563, 'dropout_dense_block_two': 0.5586726835214217}\n",
            "accuracy=0.9594104290008545\n",
            "{'batch_size': 100.0, 'dropout_cnn_block_one': 0.3231907936731285, 'dropout_cnn_block_three': 0.3902689650905524, 'dropout_cnn_block_two': 0.45200514721374435, 'dropout_dense_block_one': 0.6282982977967443, 'dropout_dense_block_two': 0.39025627188936596}\n",
            "accuracy=0.9480725526809692\n",
            "{'batch_size': 120.0, 'dropout_cnn_block_one': 0.40243273517632044, 'dropout_cnn_block_three': 0.3195836736741491, 'dropout_cnn_block_two': 0.4819705545624743, 'dropout_dense_block_one': 0.4182738492604612, 'dropout_dense_block_two': 0.5028899115115952}\n",
            "accuracy=0.94399094581604\n",
            "{'batch_size': 110.0, 'dropout_cnn_block_one': 0.32826465583811487, 'dropout_cnn_block_three': 0.35301473981306675, 'dropout_cnn_block_two': 0.33816999726865477, 'dropout_dense_block_one': 0.3165884159217781, 'dropout_dense_block_two': 0.44200118052450443}\n",
            "accuracy=0.9632652997970581\n",
            "{'batch_size': 130.0, 'dropout_cnn_block_one': 0.356359277360274, 'dropout_cnn_block_three': 0.3258315738696867, 'dropout_cnn_block_two': 0.37577983433096335, 'dropout_dense_block_one': 0.47980329632218616, 'dropout_dense_block_two': 0.5543752318917885}\n",
            "accuracy=0.96417236328125\n",
            "{'batch_size': 130.0, 'dropout_cnn_block_one': 0.30495291342490927, 'dropout_cnn_block_three': 0.3460822663636724, 'dropout_cnn_block_two': 0.4137391528350713, 'dropout_dense_block_one': 0.6170068928296597, 'dropout_dense_block_two': 0.3439148871843007}\n",
            "accuracy=0.936734676361084\n",
            "{'batch_size': 140.0, 'dropout_cnn_block_one': 0.39247279684507397, 'dropout_cnn_block_three': 0.38138938710371867, 'dropout_cnn_block_two': 0.44674938076793314, 'dropout_dense_block_one': 0.39408912110063865, 'dropout_dense_block_two': 0.40164204049637264}\n",
            "accuracy=0.9480725526809692\n",
            "100%|██████████| 30/30 [10:05<00:00, 20.17s/it, best loss: -0.9755101799964905]\n"
          ],
          "name": "stdout"
        }
      ]
    },
    {
      "cell_type": "code",
      "metadata": {
        "id": "f47MEnysoxqh",
        "colab_type": "code",
        "colab": {}
      },
      "source": [
        ""
      ],
      "execution_count": 0,
      "outputs": []
    }
  ]
}